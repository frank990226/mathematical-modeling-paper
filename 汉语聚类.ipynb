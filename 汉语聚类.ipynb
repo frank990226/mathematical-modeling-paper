{
 "cells": [
  {
   "cell_type": "code",
   "execution_count": 1,
   "metadata": {},
   "outputs": [
    {
     "data": {
      "text/html": [
       "<div>\n",
       "<style scoped>\n",
       "    .dataframe tbody tr th:only-of-type {\n",
       "        vertical-align: middle;\n",
       "    }\n",
       "\n",
       "    .dataframe tbody tr th {\n",
       "        vertical-align: top;\n",
       "    }\n",
       "\n",
       "    .dataframe thead th {\n",
       "        text-align: right;\n",
       "    }\n",
       "</style>\n",
       "<table border=\"1\" class=\"dataframe\">\n",
       "  <thead>\n",
       "    <tr style=\"text-align: right;\">\n",
       "      <th></th>\n",
       "      <th>上方行距</th>\n",
       "      <th>下方行距</th>\n",
       "    </tr>\n",
       "  </thead>\n",
       "  <tbody>\n",
       "    <tr>\n",
       "      <th>0</th>\n",
       "      <td>56</td>\n",
       "      <td>15</td>\n",
       "    </tr>\n",
       "    <tr>\n",
       "      <th>1</th>\n",
       "      <td>22</td>\n",
       "      <td>53</td>\n",
       "    </tr>\n",
       "    <tr>\n",
       "      <th>2</th>\n",
       "      <td>37</td>\n",
       "      <td>33</td>\n",
       "    </tr>\n",
       "    <tr>\n",
       "      <th>3</th>\n",
       "      <td>25</td>\n",
       "      <td>46</td>\n",
       "    </tr>\n",
       "    <tr>\n",
       "      <th>4</th>\n",
       "      <td>12</td>\n",
       "      <td>58</td>\n",
       "    </tr>\n",
       "  </tbody>\n",
       "</table>\n",
       "</div>"
      ],
      "text/plain": [
       "   上方行距  下方行距\n",
       "0    56    15\n",
       "1    22    53\n",
       "2    37    33\n",
       "3    25    46\n",
       "4    12    58"
      ]
     },
     "execution_count": 1,
     "metadata": {},
     "output_type": "execute_result"
    }
   ],
   "source": [
    "from __future__ import print_function\n",
    "import os\n",
    "import numpy as np\n",
    "import pandas as pd\n",
    "\n",
    "\n",
    "data_path = ['G:\\intel-python\\intelpython3\\Scripts\\第一题']\n",
    "filepath = os.sep.join(data_path + ['A.csv'])\n",
    "data = pd.read_csv(filepath)\n",
    "data.head()"
   ]
  },
  {
   "cell_type": "code",
   "execution_count": 3,
   "metadata": {},
   "outputs": [
    {
     "data": {
      "image/png": "[encoded data removed]",
      "text/plain": [
       "<Figure size 432x288 with 1 Axes>"
      ]
     },
     "metadata": {
      "needs_background": "light"
     },
     "output_type": "display_data"
    }
   ],
   "source": [
    "import matplotlib.pyplot as plt\n",
    "%matplotlib inline\n",
    "ax=plt.axes()\n",
    "# ax.scatter(data.上方行距, data.下方行距,'*')\n",
    "plt.plot(data.上方行距,data.下方行距,'*',c='r')\n",
    "plt.show()"
   ]
  },
  {
   "cell_type": "code",
   "execution_count": 4,
   "metadata": {},
   "outputs": [
    {
     "data": {
      "text/plain": [
       "array([10, 11,  6,  4,  1, 12,  5, 10,  9,  9, 12,  6,  4,  1,  8,  7,  2,\n",
       "        7, 11,  5,  5,  2,  6, 11, 15,  9, 11, 13,  6, 12, 11,  4,  3, 14,\n",
       "        0, 15,  5, 12, 15,  4,  1, 11,  0,  0, 12, 10, 15,  0, 12,  6, 11,\n",
       "        4,  5, 10,  6, 12, 10,  6,  7, 12,  1,  5, 11,  5, 12,  6,  2,  5,\n",
       "       10,  5,  3, 14,  5,  4,  9, 12, 11,  0,  5,  5, 14, 15,  4, 14,  0,\n",
       "       13, 11, 11, 15,  8,  0,  6, 12,  3,  0,  6,  5,  0, 12,  5, 11,  1,\n",
       "        1, 15, 12,  9,  2,  4,  1,  2,  2, 12,  0,  1,  1,  4,  5,  1,  6,\n",
       "        1, 11,  0, 15,  1,  0,  1, 10,  0,  4,  6, 15,  5, 14, 14,  4,  4,\n",
       "        0, 10, 10,  2,  1,  6, 11,  6,  0,  2,  1, 11, 15,  0,  2,  1,  1,\n",
       "        3,  1,  1, 14,  2, 10,  4,  4, 15,  5,  5,  0, 13,  3, 15, 11,  4,\n",
       "       14, 12, 12,  2, 10, 10,  4,  5,  6, 11, 12,  2,  1,  0,  2,  1,  6,\n",
       "        2,  6, 15,  6, 11,  6, 15,  1, 11,  3,  2, 14,  4, 14, 12, 14,  4,\n",
       "        2, 13, 12,  1, 10])"
      ]
     },
     "execution_count": 4,
     "metadata": {},
     "output_type": "execute_result"
    }
   ],
   "source": [
    "import numpy\n",
    "from sklearn.cluster import KMeans\n",
    "kmeans = KMeans(n_clusters=16,init='k-means++')\n",
    "kmeans=kmeans.fit(data)\n",
    "y_predict=kmeans.predict(data)\n",
    "y_predict"
   ]
  },
  {
   "cell_type": "code",
   "execution_count": 5,
   "metadata": {},
   "outputs": [
    {
     "data": {
      "image/png": "[encoded data removed]",
      "text/plain": [
       "<Figure size 432x288 with 1 Axes>"
      ]
     },
     "metadata": {
      "needs_background": "light"
     },
     "output_type": "display_data"
    }
   ],
   "source": [
    "km_list = list()\n",
    "\n",
    "for clust in range(1,17):\n",
    "    km = KMeans(n_clusters=clust, random_state=42)\n",
    "    km = km.fit(data)\n",
    "    \n",
    "    km_list.append(pd.Series({'clusters': clust, \n",
    "                              'inertia': km.inertia_,\n",
    "                              'model': km}))\n",
    "plot_data = (pd.concat(km_list, axis=1)\n",
    "             .T\n",
    "             [['clusters','inertia']]\n",
    "             .set_index('clusters'))\n",
    "\n",
    "ax = plot_data.plot(marker='*',ls='-')\n",
    "ax.set_xticks(range(0,21,2))\n",
    "ax.set_xlim(0,21)\n",
    "ax.set(xlabel='Cluster', ylabel='Inertia');"
   ]
  },
  {
   "cell_type": "code",
   "execution_count": 6,
   "metadata": {},
   "outputs": [
    {
     "data": {
      "text/plain": [
       "array([ 24,  35,  38,  46,  81,  88, 103, 122, 130, 148, 161, 167, 189,\n",
       "       193,   0,   0,   0,   0,   0,   0,   0,   0,   0,   0,   0,   0,\n",
       "         0,   0,   0,   0])"
      ]
     },
     "execution_count": 6,
     "metadata": {},
     "output_type": "execute_result"
    }
   ],
   "source": [
    "a=0\n",
    "A = np.array([0,0,0,0,0,0,0,0,0,0,0,0,0,0,0,0,0,0,0,0,0,0,0,0,0,0,0,0,0,0])\n",
    "for i in range (209):\n",
    "    if y_predict[i]==15:\n",
    "        A[a]=i\n",
    "        a=a+1\n",
    "A"
   ]
  }
 ],
 "metadata": {
  "kernelspec": {
   "display_name": "Python 3",
   "language": "python",
   "name": "python3"
  },
  "language_info": {
   "codemirror_mode": {
    "name": "ipython",
    "version": 3
   },
   "file_extension": ".py",
   "mimetype": "text/x-python",
   "name": "python",
   "nbconvert_exporter": "python",
   "pygments_lexer": "ipython3",
   "version": "3.6.8"
  }
 },
 "nbformat": 4,
 "nbformat_minor": 2
}
